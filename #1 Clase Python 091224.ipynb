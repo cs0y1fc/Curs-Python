{
 "cells": [
  {
   "cell_type": "code",
   "execution_count": null,
   "metadata": {},
   "outputs": [],
   "source": [
    "# CON LA ALMOHADILLA ESCRIBIREMOS UNA LINEA DE COMENTARIOS\n",
    "# TIENE QUE QUEDAR EN COLOR VERDE, NO SE EJECUTA\n",
    "# LAS VARIABLES = SON OBJETOS QUE ALMACENAN TEMPORALMENTE\n",
    "# UN VALOR. LAS VARIABLES NO SE DECLARAN, SE LES ASIGNA UN\n",
    "# VALOR DIRECTAMENTE\n",
    "x = 5\n",
    "X = 3\n",
    "x+X\n",
    "#EL RESULTADO DE UNA CELDA ES EL OUTPUT"
   ]
  },
  {
   "cell_type": "code",
   "execution_count": null,
   "metadata": {},
   "outputs": [],
   "source": [
    "# La función print, sirve para mostrar un resultado en el\n",
    "# output. Toda función llevan un parentesis de apertura y uno\n",
    "# de cierre, dentro van los parametros o valores que yo le\n",
    "# paso a la función\n",
    "print(x)\n",
    "print(X)"
   ]
  },
  {
   "cell_type": "code",
   "execution_count": null,
   "metadata": {},
   "outputs": [],
   "source": [
    "# En Python los textos se ponen entre comillas dobles o simple\n",
    "print(\"el resultado de x+X es\",x+X,\"unidades\")\n",
    "# con la coma concateno valores, es un espacio en blanco"
   ]
  },
  {
   "cell_type": "code",
   "execution_count": null,
   "metadata": {},
   "outputs": [],
   "source": [
    "# Asignar un texto a una variable\n",
    "dia = 'Lunes'\n",
    "dia2 = \"Martes\"\n",
    "# Los nombres de los objetos, variables, listas, dataframes, funciones\n",
    "# evitar, espacios en blanco, caracteres especiales y tildes\n",
    "print(\"Hoy es\",dia)\n",
    "print()   #linea en blanco\n",
    "print()\n",
    "print(\"Y mañana sera\",dia2)\n"
   ]
  },
  {
   "cell_type": "code",
   "execution_count": null,
   "metadata": {},
   "outputs": [],
   "source": [
    "print(dia+dia2)"
   ]
  },
  {
   "cell_type": "code",
   "execution_count": null,
   "metadata": {},
   "outputs": [],
   "source": [
    "print(\"sasd\"+dia)\n",
    "# el + concatena texto o suma numeros, pero no puedo usar\n",
    "# el + para un texto y para un numero"
   ]
  },
  {
   "cell_type": "code",
   "execution_count": null,
   "metadata": {},
   "outputs": [],
   "source": [
    "#Como interactuar con el usaurio, que el usaurio pueda poner\n",
    "# un valor, con la función input (abre caja de texto y espera\n",
    "# una respuesta)\n",
    "mensaje = input(\"Escriba su nombre:\")\n",
    "print(\"Su nombre es\",mensaje)"
   ]
  },
  {
   "cell_type": "code",
   "execution_count": null,
   "metadata": {},
   "outputs": [],
   "source": [
    "#Las listas, son objetos que almacenan temporalmente\n",
    "#varios valores, las listas son heterogeneas, que pueden\n",
    "#contener diferentes tipos de valores, numeros, texto o fechas\n",
    "ingredientes = ['Carne',\"Huevos\",'Perejil','Harina',25,'Sal']\n",
    "ingredientes"
   ]
  },
  {
   "cell_type": "code",
   "execution_count": null,
   "metadata": {},
   "outputs": [],
   "source": [
    "# Como acceder a un elemento de una lista, poniendo entre []\n",
    "#su indice, teniendo en cuenta que empieza por 0\n",
    "ingredientes[5]"
   ]
  },
  {
   "cell_type": "code",
   "execution_count": null,
   "metadata": {},
   "outputs": [],
   "source": [
    "# Una función que nos dira el numero de elementos que \n",
    "# tiene una lista y ademas el numero de caracteres que tiene\n",
    "# una variable. función len\n",
    "print('lunes tiene',len(dia),'caracteres')\n",
    "print(len(ingredientes))\n"
   ]
  },
  {
   "cell_type": "code",
   "execution_count": null,
   "metadata": {},
   "outputs": [],
   "source": [
    "#Como añadir un elemento al final de una lista, \n",
    "# con la función append\n",
    "ingredientes.append('Zanahoria')\n",
    "ingredientes"
   ]
  },
  {
   "cell_type": "code",
   "execution_count": null,
   "metadata": {},
   "outputs": [],
   "source": [
    "#Como insertar un elemento en medio de una lista, con insert\n",
    "ingredientes.insert(1,'Pimiento')\n",
    "ingredientes"
   ]
  },
  {
   "cell_type": "code",
   "execution_count": null,
   "metadata": {},
   "outputs": [],
   "source": [
    "#Como saber cuantas veces esta repetido un elementom con count\n",
    "ingredientes.count('Zanahoria')"
   ]
  },
  {
   "cell_type": "code",
   "execution_count": null,
   "metadata": {},
   "outputs": [],
   "source": [
    "#Eliminar el primer elemento encontrado en una lista, con remove\n",
    "ingredientes.remove('Zanahoria')\n",
    "ingredientes\n"
   ]
  },
  {
   "cell_type": "code",
   "execution_count": null,
   "metadata": {},
   "outputs": [],
   "source": [
    "#Eliminar un elemento por posicion, con la función del\n",
    "del ingredientes[4]\n",
    "ingredientes"
   ]
  },
  {
   "cell_type": "code",
   "execution_count": null,
   "metadata": {},
   "outputs": [],
   "source": [
    "# Eliminar con un rango, un intervalo de indices\n",
    "del ingredientes[4:6]\n",
    "ingredientes"
   ]
  },
  {
   "cell_type": "code",
   "execution_count": null,
   "metadata": {},
   "outputs": [],
   "source": [
    "del ingredientes[4:]   #Significa del indice 4 hasta el final\n",
    "ingredientes"
   ]
  },
  {
   "cell_type": "code",
   "execution_count": null,
   "metadata": {},
   "outputs": [],
   "source": [
    "#Para eliminar todos los elementos de una lista, con clear\n",
    "ingredientes.clear()\n",
    "ingredientes"
   ]
  },
  {
   "cell_type": "code",
   "execution_count": null,
   "metadata": {},
   "outputs": [],
   "source": [
    "# Se puede crear una lista en blanco [] y rellenarla despues\n",
    "milista=[]\n",
    "milista.append(15)\n",
    "milista\n"
   ]
  },
  {
   "cell_type": "markdown",
   "metadata": {},
   "source": [
    "Practica 1: Crearemos una lista llamada semana, que contendra los dias\n",
    "de lunes a viernes, sin el jueves, despues añadiremos el sabado y el domingo,\n",
    "a continuación pondremos el jueves en su sitio, añadiremos al final dos\n",
    "viernes y guardaremos en una variable, el numero de viernes que contiene \n",
    "la lista en este momento, despues borraremos los viernes sobrantes y mostraremos, en el output un texto que ponga \"el numero de viernes era x\""
   ]
  },
  {
   "cell_type": "code",
   "execution_count": null,
   "metadata": {},
   "outputs": [],
   "source": [
    "#Practica 1:\n",
    "semana = ['Lunes','Martes','Miercoles','Viernes']\n",
    "print(semana)\n",
    "semana.append('Sabado')\n",
    "print(semana)\n",
    "semana.append('Domingo')\n",
    "print(semana)\n",
    "semana.insert(3,'Jueves')\n",
    "print(semana)\n",
    "semana.append('Viernes')\n",
    "print(semana)\n",
    "semana.append('Viernes')\n",
    "print(semana)\n",
    "viernes = semana.count('Viernes')\n",
    "print(viernes)\n",
    "del semana[7:]\n",
    "print(semana)\n",
    "print(\"el numero de viernes era\",viernes)\n"
   ]
  },
  {
   "cell_type": "code",
   "execution_count": 13,
   "metadata": {},
   "outputs": [
    {
     "name": "stdout",
     "output_type": "stream",
     "text": [
      "5\n",
      "range(1, 15)\n"
     ]
    }
   ],
   "source": [
    "#Una función para generar numeros, se llama range\n",
    "numeros = range(10)\n",
    "# me hara una lista de numeros consecutivos que empezara por 0 \n",
    "# y terminara en 9 (10 elementos)\n",
    "# para ver esta lista usare la función list\n",
    "numeros\n",
    "list(numeros)\n",
    "print(numeros[5])\n",
    "\n",
    "numeros2 = range(1,15)\n",
    "list(numeros2)\n",
    "print(numeros2)"
   ]
  },
  {
   "cell_type": "code",
   "execution_count": null,
   "metadata": {},
   "outputs": [],
   "source": [
    "#El primer parametro el valor inicial, el segundo el numero de elementos\n",
    "# de la lista y el tercero el step el salto\n",
    "numeros3 = range(1,11,2)\n",
    "numeros3[3]\n",
    "#list(numeros3)"
   ]
  },
  {
   "cell_type": "code",
   "execution_count": null,
   "metadata": {},
   "outputs": [],
   "source": [
    "numeros4 = [14,15,16]\n",
    "numeros4"
   ]
  },
  {
   "cell_type": "code",
   "execution_count": null,
   "metadata": {},
   "outputs": [],
   "source": [
    "#Una lista regresiva, el valor mas grande va primero y el mas pequeño\n",
    "#despues.\n",
    "numeros5 = range(30,10,-2)\n",
    "list(numeros5)"
   ]
  },
  {
   "cell_type": "code",
   "execution_count": null,
   "metadata": {},
   "outputs": [],
   "source": [
    "# 3 funciones de resumen con listas numericas, con la función sum\n",
    "# haremos la suma de los elementos de la lista, con max el valor mas\n",
    "# grande, con min el valor mas pequeño\n",
    "print(sum(numeros5))\n",
    "print(max(numeros5))\n",
    "print(min(numeros5))"
   ]
  },
  {
   "cell_type": "code",
   "execution_count": null,
   "metadata": {},
   "outputs": [],
   "source": [
    "#Una estructura, que se llama Bucle, un codigo que se repite hasta\n",
    "#que se cumple una condición dada. Los bucles son de 2 tipos, finitos e\n",
    "#infinitos. Los finitos son aquellos que van a terminar si o si, ya que \n",
    "#sabemos de antemano cuantas veces se repetira el codigo. Una iteración\n",
    "#es cada vez que se ejecuta el codigo de un bucle sera con (for) y despues\n",
    "#tenemos el bucle infinito (while), puede que termine o puede que no\n",
    "# el bucle lleva una variable asociada, el while no tiene una variable\n",
    "# asociada, dos puntos : para indicar que empieza una estructura, toda\n",
    "# linea que pertenezca al bucle va identada (4 espacios a la derecha)\n",
    "for i in [15,23,3,44,5]:\n",
    "    #Esto es el codigo del bucle\n",
    "    print(\"El valor es\",i)\n",
    "print(\"Terminado\")\n",
    "\n"
   ]
  },
  {
   "cell_type": "code",
   "execution_count": null,
   "metadata": {},
   "outputs": [],
   "source": [
    "for i in semana:\n",
    "    print(\"El dia es\",i)"
   ]
  },
  {
   "cell_type": "code",
   "execution_count": null,
   "metadata": {},
   "outputs": [],
   "source": [
    "# Reglas nemotecnicas, como se deben de llamar los objetos\n",
    "# una variable que controle el numero de iteraciones\n",
    "#se controla con el metodo contador, que es incrementar la variable en 1\n",
    "iter = 1\n",
    "for dia in semana:\n",
    "    print(\"El\",iter,\"dia de la semana es\",dia)\n",
    "    iter = iter + 1\n",
    "    #Alternativa para los mas PROS\n",
    "    #iter+=1"
   ]
  },
  {
   "cell_type": "markdown",
   "metadata": {},
   "source": [
    "Practica 2: Mediante un bucle for, recorrer una lista con los meses\n",
    "de enero a diciembre y se tiene que mostrar un texto que ponga\n",
    "\"el 1 mes del año es Enero\", \"el 2 mes del año es Febrero\"\n",
    "\n",
    "Solo para los +valientes, en vez de poner el 1 mes del año, que ponga\n",
    "el primer mes del año es...El segundo mes del año es...\n",
    "\n",
    "OS DEJO 3-4 MINUTOS Y RESUELVO"
   ]
  },
  {
   "cell_type": "code",
   "execution_count": null,
   "metadata": {},
   "outputs": [],
   "source": [
    "meses = ['Enero','Febrero','Marzo','Abril','Mayo','Junio',\n",
    "         'Julio','Agosto','Septiembre','Octubre','Noviembre','Diciembre']\n",
    "iter  = 1\n",
    "for mes in meses:\n",
    "    print(\"El\",iter,\"mes del año es\",mes)\n",
    "    iter+=1\n",
    "print(\"Terminado\")"
   ]
  },
  {
   "cell_type": "code",
   "execution_count": null,
   "metadata": {},
   "outputs": [],
   "source": [
    "meses = ['Enero','Febrero','Marzo','Abril','Mayo','Junio',\n",
    "         'Julio','Agosto','Septiembre','Octubre','Noviembre','Diciembre']\n",
    "ordinal = ['primer','segundo','tercer','cuarto','quinto','sexto','septimo',\n",
    "           'octavo','noveno','decimo','undecimo','duodecimo']\n",
    "iter  = 1\n",
    "for mes in meses:\n",
    "    print(\"El\",ordinal[iter-1],\"mes del año es\",mes)\n",
    "    iter+=1"
   ]
  },
  {
   "cell_type": "code",
   "execution_count": null,
   "metadata": {},
   "outputs": [],
   "source": [
    "ordinal[0]"
   ]
  },
  {
   "cell_type": "code",
   "execution_count": null,
   "metadata": {},
   "outputs": [],
   "source": [
    "#Tambien puedo recorrer todos los caracteres del valor de una variable\n",
    "palabra = 'Esternocleidomastoideo'\n",
    "for letra in palabra:\n",
    "    print(\"la letra es\",letra)"
   ]
  },
  {
   "cell_type": "code",
   "execution_count": null,
   "metadata": {},
   "outputs": [],
   "source": [
    "# La estructura de decisión if, analiza una condición o prueba logica \n",
    "# y si se cumple ejecuta una parte verdadera\n",
    "# Que significa analizar una condición, consiste en comparar valores\n",
    "# mediante un operador de comparación.\n",
    "# > Mayor que 8>4 Verdadero - 8>12 Falso\n",
    "# < Menor que 8<12 Verdadero - 8<4 Falso\n",
    "# >= Mayor o igual que\n",
    "# <= Menor o igual que\n",
    "# == Igual que 8==8 Verdadero - 8==12 Falso\n",
    "# != Distinto  8!=12 verdadero - 8!=8 False"
   ]
  },
  {
   "cell_type": "code",
   "execution_count": null,
   "metadata": {},
   "outputs": [],
   "source": [
    "Ciudad = 'Tarragona'\n",
    "if Ciudad == 'Tarragona':\n",
    "    #esto es la parte True\n",
    "    print(\"Si es Tarragona\")\n",
    "else:\n",
    "    #esto es parte False\n",
    "    print(\"No es Tarragona\")\n",
    "print(\"Se termino la estructura if\")"
   ]
  },
  {
   "cell_type": "markdown",
   "metadata": {},
   "source": [
    "Practica 3: Mediante la lista meses y con un bucle for, imprimir todos\n",
    "los meses del año, menos Junio.\n",
    "\n",
    "Practica 4: Mediante una lista de numeros [15,33,48,67,25,19,73,88,14] y\n",
    "con un bucle for imprimir en el output los numeros mayores de 40\n",
    "\n",
    "Practica 5: Mediante la lista meses y con un bucle for, imprimir todos\n",
    "los meses del año, cuyo nombre del mes tenga 5 caracteres"
   ]
  },
  {
   "cell_type": "code",
   "execution_count": null,
   "metadata": {},
   "outputs": [],
   "source": [
    "#Practica 3:\n",
    "for mes in meses:\n",
    "    if mes!='Junio':\n",
    "        print(mes)"
   ]
  },
  {
   "cell_type": "code",
   "execution_count": null,
   "metadata": {},
   "outputs": [],
   "source": [
    "#Practica 4:\n",
    "num_practica4 = [15,33,48,67,25,19,73,88,14]\n",
    "for numero in num_practica4:\n",
    "    if numero>40:\n",
    "        print(numero)"
   ]
  },
  {
   "cell_type": "code",
   "execution_count": null,
   "metadata": {},
   "outputs": [],
   "source": [
    "#Practica 5:\n",
    "num_meses = 0\n",
    "for mes in meses:\n",
    "    if len(mes)==5:\n",
    "        print(mes)\n",
    "        num_meses+=1\n",
    "print(\"El numero de meses con 5 caracteres es\",num_meses)"
   ]
  },
  {
   "cell_type": "markdown",
   "metadata": {},
   "source": [
    "EN UN IF, TENGO 2 OPCIONES DE DEVOLUCION.\n",
    "IF MES=='aBRIL':\n",
    "    LA OPCION 1\n",
    "ELSE:\n",
    "    LA OPCION 2\n",
    "QUE PASA SI NECESITO MAS DE 2 CONDICIONES, TENDRE QUE USAR EL ELIF\n",
    "SIRVE PARA IR ANIDANDO IFS (SI ANIDADO)\n",
    "SERIA PARA CLASIFICAR UN NUMERO"
   ]
  },
  {
   "cell_type": "code",
   "execution_count": 117,
   "metadata": {},
   "outputs": [
    {
     "name": "stdout",
     "output_type": "stream",
     "text": [
      "El numero es mayor de 25\n"
     ]
    }
   ],
   "source": [
    "numero = 56\n",
    "if numero<=10:\n",
    "    print(\"Numero comprendido entre 0-10\")\n",
    "elif numero<=25:\n",
    "    print(\"El numero esta comprendido entre >10 y 25\")\n",
    "else:\n",
    "    print(\"El numero es mayor de 25\")\n"
   ]
  },
  {
   "cell_type": "markdown",
   "metadata": {},
   "source": [
    "FUNCIONES"
   ]
  },
  {
   "cell_type": "code",
   "execution_count": 17,
   "metadata": {},
   "outputs": [
    {
     "name": "stdout",
     "output_type": "stream",
     "text": [
      "10\n"
     ]
    }
   ],
   "source": [
    "def suma3(x):\n",
    "    print(x+3)\n",
    "#Todo lo que se hace con print, devuelve un texto\n",
    "suma3(7)\n",
    "# ERROR: resultado = suma3(7) porque print siempre devuelve un texto"
   ]
  },
  {
   "cell_type": "code",
   "execution_count": null,
   "metadata": {},
   "outputs": [
    {
     "data": {
      "text/plain": [
       "12"
      ]
     },
     "execution_count": 18,
     "metadata": {},
     "output_type": "execute_result"
    }
   ],
   "source": [
    "def suma5(x):\n",
    "    return x+5\n",
    "#Con RETURN devuelve el valor del tipo de dato\n",
    "suma5(5)+2"
   ]
  },
  {
   "cell_type": "code",
   "execution_count": 19,
   "metadata": {},
   "outputs": [
    {
     "data": {
      "text/plain": [
       "5"
      ]
     },
     "execution_count": 19,
     "metadata": {},
     "output_type": "execute_result"
    }
   ],
   "source": [
    "#+1 parametro en la funcion\n",
    "def suamAB(a,b):\n",
    "    return a+b\n",
    "\n",
    "a = input(\"Ponga el valor de a\")\n",
    "\n",
    "b = input(\"Ponga el valor de b\")\n",
    "\n",
    "suamAB(int(a), int(b))"
   ]
  },
  {
   "cell_type": "markdown",
   "metadata": {},
   "source": [
    "Practica 12: Crear una funcion que sume 12 a un numero y lo divida entre 3, me lo devuleva con un texto.\n",
    "\n",
    "Practica 13: Crear una funcion que pasandole como parametro un numero entre1-12, nos devuelva el noombre del mes corresponiente en letras ... WARNING, si no es entre 1-12\n",
    "\n",
    "Practica 14: Crear una funcion que nos devuelva el area de un triangulo\n",
    "\n"
   ]
  },
  {
   "cell_type": "code",
   "execution_count": 22,
   "metadata": {},
   "outputs": [
    {
     "ename": "ValueError",
     "evalue": "could not convert string to float: ''",
     "output_type": "error",
     "traceback": [
      "\u001b[1;31m---------------------------------------------------------------------------\u001b[0m",
      "\u001b[1;31mValueError\u001b[0m                                Traceback (most recent call last)",
      "Cell \u001b[1;32mIn[22], line 7\u001b[0m\n\u001b[0;32m      4\u001b[0m \u001b[38;5;28;01mdef\u001b[39;00m \u001b[38;5;21mdividir\u001b[39m(a):\n\u001b[0;32m      5\u001b[0m     \u001b[38;5;28;01mreturn\u001b[39;00m a\u001b[38;5;241m/\u001b[39m\u001b[38;5;241m3\u001b[39m\n\u001b[1;32m----> 7\u001b[0m a \u001b[38;5;241m=\u001b[39m \u001b[38;5;28;43mfloat\u001b[39;49m\u001b[43m(\u001b[49m\u001b[38;5;28;43minput\u001b[39;49m\u001b[43m(\u001b[49m\u001b[38;5;124;43m\"\u001b[39;49m\u001b[38;5;124;43mPonga el valor de a\u001b[39;49m\u001b[38;5;124;43m\"\u001b[39;49m\u001b[43m)\u001b[49m\u001b[43m)\u001b[49m\n\u001b[0;32m      9\u001b[0m dividir(\u001b[38;5;28mint\u001b[39m(a))\n",
      "\u001b[1;31mValueError\u001b[0m: could not convert string to float: ''"
     ]
    }
   ],
   "source": [
    "#practica 12\n",
    "\n",
    "#+1 parametro en la funcion\n",
    "def dividir(a):\n",
    "    b = a + 12\n",
    "    return b/3\n",
    "\n",
    "a = float(input(\"Ponga el valor de a\"))\n",
    "\n",
    "dividir(int(a))"
   ]
  }
 ],
 "metadata": {
  "kernelspec": {
   "display_name": "Python 3",
   "language": "python",
   "name": "python3"
  },
  "language_info": {
   "codemirror_mode": {
    "name": "ipython",
    "version": 3
   },
   "file_extension": ".py",
   "mimetype": "text/x-python",
   "name": "python",
   "nbconvert_exporter": "python",
   "pygments_lexer": "ipython3",
   "version": "3.13.1"
  }
 },
 "nbformat": 4,
 "nbformat_minor": 2
}
