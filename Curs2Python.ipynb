{
 "cells": [
  {
   "cell_type": "code",
   "execution_count": null,
   "metadata": {},
   "outputs": [],
   "source": [
    "# Cómo trabajar las fechas en Python?\n",
    "# necesitamos la libreria DATETIME\n",
    "# Para llamar a una libreria: con IMPORT o con FROM\n",
    "# Importa la clase DATE de la libreria DATETIME\n",
    "from datetime import date\n",
    "hoy = date.today()\n",
    "print(hoy)\n",
    "# Imprimir por separado, mes y año\n",
    "print(\"El dia de hoy es\", hoy.day)\n",
    "print(\"El mes de hoy es\", hoy.month)\n",
    "print(\"El año de hoy es\", hoy.year)"
   ]
  },
  {
   "cell_type": "code",
   "execution_count": null,
   "metadata": {},
   "outputs": [],
   "source": [
    "# Trabajamos con fechas y horas: DATETIME\n",
    "from datetime import datetime\n",
    "ahora = datetime.now()\n",
    "print(ahora)\n",
    "print(ahora.hour)\n",
    "print(ahora.minute)\n",
    "print(ahora.second)\n",
    "print(ahora.microsecond)"
   ]
  },
  {
   "cell_type": "code",
   "execution_count": null,
   "metadata": {},
   "outputs": [],
   "source": [
    "# Asignat una fecha concreta a una variable\n",
    "fecha1 = date(2022,10,5)\n",
    "print(fecha1)\n",
    "if hoy>fecha1:\n",
    "    print(\"Hoy es despues de\", fecha1)"
   ]
  },
  {
   "cell_type": "code",
   "execution_count": null,
   "metadata": {},
   "outputs": [],
   "source": [
    "# Cómo personalizar una fecha: strftime (string format time)\n",
    "# Dia del mes\n",
    "formato = hoy.strftime('%d')\n",
    "print(formato)\n",
    "# Dia de la semana\n",
    "formato = hoy.strftime('%w')\n",
    "print(formato)\n",
    "# Dia de la semana en letras\n",
    "formato = hoy.strftime('%A')\n",
    "print(formato)\n",
    "# Mes de la fecha\n",
    "formato = hoy.strftime('%m')\n",
    "print(formato)\n",
    "# Año de la fecha (2 ultimos digitos del año)\n",
    "formato = hoy.strftime('%y')\n",
    "print(formato)\n",
    "# Año de la fecha (todos los 4 digitos)\n",
    "formato = hoy.strftime('%Y')\n",
    "print(formato)\n",
    "# Semana del Año\n",
    "formato = hoy.strftime('%W')\n",
    "print(formato)\n",
    "formato = hoy.strftime('%W %m %d %A')\n",
    "print(formato)"
   ]
  },
  {
   "cell_type": "code",
   "execution_count": null,
   "metadata": {},
   "outputs": [],
   "source": [
    "# Diferentes formato de hora actual\n",
    "ahora = datetime.now()\n",
    "formato = ahora.strftime('%H')\n",
    "print(formato)\n",
    "# Formato de minutos\n",
    "ahora = datetime.now()\n",
    "formato = ahora.strftime('%M')\n",
    "print(formato)\n",
    "# Formato de segundos\n",
    "ahora = datetime.now()\n",
    "formato = ahora.strftime('%S')\n",
    "print(formato)"
   ]
  },
  {
   "cell_type": "markdown",
   "metadata": {},
   "source": [
    "PRACTICA 18: Crear una funcion con 3 parametros (dia, mes y año, introducidos por input). La funcion debe devolver texto con:\n",
    "- dia de la semana (en letras)\n",
    "- fecha en formato mm/dd/yyyy\n",
    "\n",
    "PRACTICA 19: Calcular los segundos transcurridos entr 2 ejecuciones de celdas diferentes"
   ]
  },
  {
   "cell_type": "code",
   "execution_count": 39,
   "metadata": {},
   "outputs": [
    {
     "data": {
      "text/plain": [
       "'Friday 12/13/2024'"
      ]
     },
     "execution_count": 39,
     "metadata": {},
     "output_type": "execute_result"
    }
   ],
   "source": [
    "from datetime import date\n",
    "def funcionFecha(dia, mes, año):\n",
    "    fecha = date(año, mes, dia)\n",
    "    # Dia de la semana en letras\n",
    "    \n",
    "    return fecha.strftime('%A %m/%d/%Y')\n",
    "\n",
    "dia = int(input(\"Dime el dia (en 2 cifras):\"))\n",
    "mes = int(input(\"Dime el mes (2 cifras):\"))\n",
    "año = int(input(\"Dime el año (4 cifras):\"))\n",
    "\n",
    "funcionFecha(dia, mes, año)    \n"
   ]
  },
  {
   "cell_type": "code",
   "execution_count": 45,
   "metadata": {},
   "outputs": [
    {
     "name": "stdout",
     "output_type": "stream",
     "text": [
      "27\n"
     ]
    }
   ],
   "source": [
    "from datetime import datetime\n",
    "ahora1 = datetime.now()\n",
    "\n",
    "print(ahora1.second)\n"
   ]
  },
  {
   "cell_type": "code",
   "execution_count": 50,
   "metadata": {},
   "outputs": [
    {
     "name": "stdout",
     "output_type": "stream",
     "text": [
      "15\n",
      "La difernecia es: 14 minutos\n",
      "La difernecia es: 828 segundos\n"
     ]
    }
   ],
   "source": [
    "from datetime import datetime\n",
    "ahora2 = datetime.now()\n",
    "\n",
    "print(ahora2.second)\n",
    "time = ahora2 - ahora1\n",
    "\n",
    "if time.seconds>60: \n",
    "    print(\"La difernecia es:\", round(time.seconds/60), \"minutos\")\n",
    "    print(\"La difernecia es:\", time.seconds, \"segundos\")\n",
    "else:\n",
    "    print(\"Diferencia entre ahora1 y ahora2 en SEGUNDOS:\", time.seconds)"
   ]
  },
  {
   "cell_type": "markdown",
   "metadata": {},
   "source": [
    "Libreria Pandas sirve para trabajar con Datos, importar de diferentes orígenes, transformarlos y volver a exportar. Es la libreria más utilizada. Power BI ya reconoce Panda\n",
    "\n",
    "Pandas = pasado\n",
    "\n",
    "presente = polars o vue\n",
    "\n",
    "Pandas cuneta con 3 tipos de estructuras:\n",
    "    - Series: 1 dimension (tienen un indice asociado). Son homogeneo\n",
    "    - Dataframe: 2 dimensiones (coma tabla BBDD, filas/columnas)\n",
    "    - Campos/Resgistros: Conjunto de Series\n",
    "    - Paneles: 3 dimensiones (al estilo cubo OLAP)\n",
    "\n",
    "Cómo instalar una libreria externa? \n",
    "    - pip (c:/ pip install pandas)\n",
    "    - desde VSCode \n",
    "\n",
    "\n",
    "Cómo ver las librerias instaladas: pip list"
   ]
  }
 ],
 "metadata": {
  "kernelspec": {
   "display_name": "Python 3",
   "language": "python",
   "name": "python3"
  },
  "language_info": {
   "codemirror_mode": {
    "name": "ipython",
    "version": 3
   },
   "file_extension": ".py",
   "mimetype": "text/x-python",
   "name": "python",
   "nbconvert_exporter": "python",
   "pygments_lexer": "ipython3",
   "version": "3.13.1"
  }
 },
 "nbformat": 4,
 "nbformat_minor": 2
}
