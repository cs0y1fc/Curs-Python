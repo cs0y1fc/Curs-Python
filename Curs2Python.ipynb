{
 "cells": [
  {
   "cell_type": "code",
   "execution_count": null,
   "metadata": {},
   "outputs": [],
   "source": [
    "# Cómo trabajar las fechas en Python?\n",
    "# necesitamos la libreria DATETIME\n",
    "# Para llamar a una libreria: con IMPORT o con FROM\n",
    "# Importa la clase DATE de la libreria DATETIME\n",
    "from datetime import date\n",
    "hoy = date.today()\n",
    "print(hoy)\n",
    "# Imprimir por separado, mes y año\n",
    "print(\"El dia de hoy es\", hoy.day)\n",
    "print(\"El mes de hoy es\", hoy.month)\n",
    "print(\"El año de hoy es\", hoy.year)"
   ]
  },
  {
   "cell_type": "code",
   "execution_count": null,
   "metadata": {},
   "outputs": [],
   "source": [
    "# Trabajamos con fechas y horas: DATETIME\n",
    "from datetime import datetime\n",
    "ahora = datetime.now()\n",
    "print(ahora)\n",
    "print(ahora.hour)\n",
    "print(ahora.minute)\n",
    "print(ahora.second)\n",
    "print(ahora.microsecond)"
   ]
  },
  {
   "cell_type": "code",
   "execution_count": null,
   "metadata": {},
   "outputs": [],
   "source": [
    "# Asignat una fecha concreta a una variable\n",
    "fecha1 = date(2022,10,5)\n",
    "print(fecha1)\n",
    "if hoy>fecha1:\n",
    "    print(\"Hoy es despues de\", fecha1)"
   ]
  },
  {
   "cell_type": "code",
   "execution_count": null,
   "metadata": {},
   "outputs": [],
   "source": [
    "# Cómo personalizar una fecha: strftime (string format time)\n",
    "# Dia del mes\n",
    "formato = hoy.strftime('%d')\n",
    "print(formato)\n",
    "# Dia de la semana\n",
    "formato = hoy.strftime('%w')\n",
    "print(formato)\n",
    "# Dia de la semana en letras\n",
    "formato = hoy.strftime('%A')\n",
    "print(formato)\n",
    "# Mes de la fecha\n",
    "formato = hoy.strftime('%m')\n",
    "print(formato)\n",
    "# Año de la fecha (2 ultimos digitos del año)\n",
    "formato = hoy.strftime('%y')\n",
    "print(formato)\n",
    "# Año de la fecha (todos los 4 digitos)\n",
    "formato = hoy.strftime('%Y')\n",
    "print(formato)\n",
    "# Semana del Año\n",
    "formato = hoy.strftime('%W')\n",
    "print(formato)\n",
    "formato = hoy.strftime('%W %m %d %A')\n",
    "print(formato)"
   ]
  },
  {
   "cell_type": "code",
   "execution_count": null,
   "metadata": {},
   "outputs": [],
   "source": [
    "# Diferentes formato de hora actual\n",
    "ahora = datetime.now()\n",
    "formato = ahora.strftime('%H')\n",
    "print(formato)\n",
    "# Formato de minutos\n",
    "ahora = datetime.now()\n",
    "formato = ahora.strftime('%M')\n",
    "print(formato)\n",
    "# Formato de segundos\n",
    "ahora = datetime.now()\n",
    "formato = ahora.strftime('%S')\n",
    "print(formato)"
   ]
  },
  {
   "cell_type": "markdown",
   "metadata": {},
   "source": [
    "PRACTICA 18: Crear una funcion con 3 parametros (dia, mes y año, introducidos por input). La funcion debe devolver texto con:\n",
    "- dia de la semana (en letras)\n",
    "- fecha en formato mm/dd/yyyy\n",
    "\n",
    "PRACTICA 19: Calcular los segundos transcurridos entr 2 ejecuciones de celdas diferentes"
   ]
  },
  {
   "cell_type": "code",
   "execution_count": null,
   "metadata": {},
   "outputs": [],
   "source": [
    "from datetime import date\n",
    "def funcionFecha(dia, mes, año):\n",
    "    fecha = date(año, mes, dia)\n",
    "    # Dia de la semana en letras\n",
    "    \n",
    "    return fecha.strftime('%A %m/%d/%Y')\n",
    "\n",
    "dia = int(input(\"Dime el dia (en 2 cifras):\"))\n",
    "mes = int(input(\"Dime el mes (2 cifras):\"))\n",
    "año = int(input(\"Dime el año (4 cifras):\"))\n",
    "\n",
    "funcionFecha(dia, mes, año)    \n"
   ]
  },
  {
   "cell_type": "code",
   "execution_count": null,
   "metadata": {},
   "outputs": [],
   "source": [
    "from datetime import datetime\n",
    "ahora1 = datetime.now()\n",
    "\n",
    "print(ahora1.second)\n"
   ]
  },
  {
   "cell_type": "code",
   "execution_count": null,
   "metadata": {},
   "outputs": [],
   "source": [
    "from datetime import datetime\n",
    "ahora2 = datetime.now()\n",
    "\n",
    "print(ahora2.second)\n",
    "time = ahora2 - ahora1\n",
    "\n",
    "if time.seconds>60: \n",
    "    print(\"La difernecia es:\", round(time.seconds/60), \"minutos\")\n",
    "    print(\"La difernecia es:\", time.seconds, \"segundos\")\n",
    "else:\n",
    "    print(\"Diferencia entre ahora1 y ahora2 en SEGUNDOS:\", time.seconds)"
   ]
  },
  {
   "cell_type": "markdown",
   "metadata": {},
   "source": [
    "Libreria Pandas sirve para trabajar con Datos, importar de diferentes orígenes, transformarlos y volver a exportar. Es la libreria más utilizada. Power BI ya reconoce Panda\n",
    "\n",
    "Pandas = pasado\n",
    "\n",
    "presente = polars o vue\n",
    "\n",
    "Pandas cuneta con 3 tipos de estructuras:\n",
    "    - Series: 1 dimension (tienen un indice asociado). Son homogeneas (mismo tipo para todos los valores)\n",
    "    - Dataframe: 2 dimensiones (coma tabla BBDD, filas/columnas)\n",
    "    - Campos/Resgistros: Conjunto de Series\n",
    "    - Paneles: 3 dimensiones (al estilo cubo OLAP)\n",
    "\n",
    "Cómo instalar una libreria externa? \n",
    "    - pip (c:/ pip install pandas)\n",
    "    - desde VSCode \n",
    "\n",
    "\n",
    "Cómo ver las librerias instaladas: pip list"
   ]
  },
  {
   "cell_type": "code",
   "execution_count": null,
   "metadata": {},
   "outputs": [],
   "source": [
    "# Primero llamar a la libreria Pandas\n",
    "import pandas as pd\n",
    "\n",
    "semana = pd.Series(['Lunes', 'Martes', 'Miercoles', 'Jueves', 'Viernes'])\n",
    "semana\n",
    "semana[1]"
   ]
  },
  {
   "cell_type": "code",
   "execution_count": null,
   "metadata": {},
   "outputs": [],
   "source": [
    "#Lista semana2\n",
    "semana2 = ['Lunes', 'Martes', 'Miercoles', 'Jueves', 'Viernes']\n",
    "serie_semana = pd.Series(data=semana2)\n",
    "serie_semana"
   ]
  },
  {
   "cell_type": "code",
   "execution_count": null,
   "metadata": {},
   "outputs": [],
   "source": [
    "numeros = [12, 34, 23, 65, 54, 78, 99, 120]\n",
    "sn = pd.Series(numeros)\n",
    "print(sn)"
   ]
  },
  {
   "cell_type": "code",
   "execution_count": null,
   "metadata": {},
   "outputs": [],
   "source": [
    "valores = [true, false, true, false]\n",
    "sv = pd.Series(data=valores)\n",
    "print(sv)"
   ]
  },
  {
   "cell_type": "code",
   "execution_count": null,
   "metadata": {},
   "outputs": [],
   "source": [
    "# Funciones de resumen de una serie\n",
    "print(\"La suma de los valores de sn es:\", sn.sum())"
   ]
  },
  {
   "cell_type": "code",
   "execution_count": null,
   "metadata": {},
   "outputs": [],
   "source": [
    "# Promedia\n",
    "print(\"El promedio de la serie sn es:\", round(sn.mean()))"
   ]
  },
  {
   "cell_type": "code",
   "execution_count": null,
   "metadata": {},
   "outputs": [],
   "source": [
    "# Valores máximos y mínimos\n",
    "print(\"El valor más grande es:\", sn.max())\n",
    "print(\"El valor más pequeño es:\", sn.min())"
   ]
  },
  {
   "cell_type": "code",
   "execution_count": null,
   "metadata": {},
   "outputs": [],
   "source": [
    "# La serie del acumulado\n",
    "print(\"La serie de los acumuldos es:\", sn.cumsum())"
   ]
  },
  {
   "cell_type": "code",
   "execution_count": null,
   "metadata": {},
   "outputs": [],
   "source": [
    "# La varianza es la variabilidad de una serie numerica respecto a su media\n",
    "print(\"La varianza es:\", sn.var())"
   ]
  },
  {
   "cell_type": "code",
   "execution_count": null,
   "metadata": {},
   "outputs": [],
   "source": [
    "# La desviacion tipica es la desviacion media con respecto a su media\n",
    "print(\"La desviacion tipica es:\", sn.std())"
   ]
  },
  {
   "cell_type": "code",
   "execution_count": null,
   "metadata": {},
   "outputs": [],
   "source": [
    "# Resumen estadístico\n",
    "print(sn.describe())"
   ]
  },
  {
   "cell_type": "code",
   "execution_count": null,
   "metadata": {},
   "outputs": [],
   "source": [
    "# Cómo aplicar una función a todos los elemntos de una serie: APPLY\n",
    "def suma3(x):\n",
    "    return x +3\n",
    "\n",
    "print(\"La serie sn:\", sn)\n",
    "print(\"Aplicamos la funcion Suma3():\", sn.apply(suma3))\n"
   ]
  },
  {
   "cell_type": "code",
   "execution_count": null,
   "metadata": {},
   "outputs": [],
   "source": [
    "# Cómo ordenar una serie\n",
    "print(\"Lista ordenada Ascendente:\", sn.sort_values(ascending=True))"
   ]
  },
  {
   "cell_type": "code",
   "execution_count": null,
   "metadata": {},
   "outputs": [],
   "source": [
    "# Los indices tambien se han reordenado\n",
    "# Para reordenar con ignore_index\n",
    "\n",
    "print(\"Lista ordenada Ascendente:\", sn.sort_values(ascending=True, ignore_index=True))"
   ]
  },
  {
   "cell_type": "code",
   "execution_count": null,
   "metadata": {},
   "outputs": [],
   "source": [
    "print(\"Lista ordenada Descendente:\", sn.sort_values(ascending=False, ignore_index=True))"
   ]
  },
  {
   "cell_type": "code",
   "execution_count": null,
   "metadata": {},
   "outputs": [],
   "source": [
    "# Filtrado de datos se hace entre []\n",
    "sn[sn>49]"
   ]
  },
  {
   "cell_type": "code",
   "execution_count": null,
   "metadata": {},
   "outputs": [],
   "source": [
    "# Guardar filtro\n",
    "filtro = sn>40\n",
    "sn[filtro]"
   ]
  },
  {
   "cell_type": "code",
   "execution_count": null,
   "metadata": {},
   "outputs": [],
   "source": [
    "sn[sn<40]"
   ]
  },
  {
   "cell_type": "markdown",
   "metadata": {},
   "source": [
    "Practica 20: Crearemos una serie de pandas, con los siguientes numeros[25,17,23,435,56,45,89,12,45,67,97,123,235]. La llamaremos numeros_VIP.\n",
    "Clonar esta serie para tener solamente los numeros mayores de 40, en orden ascendente y reindexados. A esta serie le llamaremos numeros_VIP40. A esta nueva serie le aplicaremosuna funcion, que si el numero esta entre 35 y 70, le sume 10 y sino le reste 5.\n",
    "Ver en un texto el promedio de la lista numeros_VIP40 redondeando a 3 decimales.\n",
    "Ver en un texto la desviacion tipica de la serie numeros_VIP40.\n",
    "Ver en un texto la varianza de la serie numeros_VIP40.\n",
    "Ver la suma acumulada de la serie numeros_VIP40."
   ]
  },
  {
   "cell_type": "code",
   "execution_count": null,
   "metadata": {},
   "outputs": [],
   "source": [
    "numeros = [25,17,23,435,56,45,89,12,45,67,97,123,235]\n",
    "numeros_VIP = pd.Series(numeros_VIP)\n",
    "\n",
    "filtro = numeros_VIP>40\n",
    "numeros_VIP40 = numeros_VIP[filtro].sort_values(ascending=True, ignore_index=True)\n",
    "print(\"numerosVIP\", numeros_VIP)\n",
    "print(\"numeros_VIP40\", numeros_VIP40)\n",
    "\n",
    "\n",
    "\n",
    "\n",
    "\n",
    "def funcionVip(x):\n",
    "    if x>=35 & x<=70:\n",
    "        return x +10\n",
    "    else:\n",
    "        return x - 5\n",
    "    \n",
    "print(\"numeros_VIP40 con funcion\", numeros_VIP40.apply(funcionVip))\n",
    "print(\"Promedio\", numeros_VIP40.mean())\n",
    "print(\"Desviacion tipica:\", numeros_VIP40.std())\n",
    "print(\"Varianza:\", numeros_VIP40.var())\n",
    "print(\"Serie de Suma acumulada:\", numeros_VIP40.cumsum())\n"
   ]
  },
  {
   "cell_type": "code",
   "execution_count": null,
   "metadata": {},
   "outputs": [],
   "source": [
    "# Ver la cantidad de veces qu esta repetido un valor\n",
    "numeros_VIP40.value_counts()"
   ]
  },
  {
   "cell_type": "code",
   "execution_count": null,
   "metadata": {},
   "outputs": [],
   "source": [
    "print(\"Serie de Suma acumulada:\", numeros_VIP40.cumsum())"
   ]
  },
  {
   "cell_type": "code",
   "execution_count": null,
   "metadata": {},
   "outputs": [],
   "source": [
    "# Como juntar 2 series Pandas\n",
    "\n",
    "serie1 = pd.Series([2,34,18,75])\n",
    "serie2 = pd.Series([35,68,75,84,105,11])\n",
    "serie3 = pd.concat([serie1,serie2], ignore_index=True)\n",
    "serie3"
   ]
  },
  {
   "cell_type": "code",
   "execution_count": null,
   "metadata": {},
   "outputs": [],
   "source": [
    "# Dataframes de Panda: 2 dimensiones (columnas y filas)\n",
    "# Se pueden cargar de 2 maneras: manualmente oleyendo de un origen de datos\n",
    "\n",
    "import pandas as pd\n",
    "\n",
    "clase = pd.DataFrame([{'Nombre': 'Luis','Estatura': 1.75,'Edad': 28},\n",
    "                    {'Nombre': 'Marta','Estatura': 1.5,'Edad': 48},\n",
    "                    {'Nombre': 'Andres','Estatura': 1.25,'Edad': 38},\n",
    "                    {'Nombre': 'Marina','Estatura': 1.05,'Edad': 68},\n",
    "                    {'Nombre': 'Pedro','Estatura': 1.15,'Edad': 58},\n",
    "                    {'Nombre': 'Nerea','Estatura': 1.35,'Edad': 18}\n",
    "                    ])\n",
    "clase"
   ]
  },
  {
   "cell_type": "code",
   "execution_count": null,
   "metadata": {},
   "outputs": [],
   "source": [
    "#Cómo ver solamente un campo (una serie)\n",
    "clase['Nombre'].sort_values(ascending=True,ignore_index=True)"
   ]
  },
  {
   "cell_type": "code",
   "execution_count": null,
   "metadata": {},
   "outputs": [],
   "source": [
    "# Cómo ver mas de un campo o serie\n",
    "clase[['Nombre', 'Edad']]"
   ]
  },
  {
   "cell_type": "markdown",
   "metadata": {},
   "source": [
    "Cómo añadir un campo o serie a un DataFrame.\n",
    "Existen varias maneras:\n",
    "1.- Poniendo un valor manual fijo\n",
    "2.- Usando Apply con una funcion\n",
    "3.- Partiendo de una o mas columnas"
   ]
  },
  {
   "cell_type": "code",
   "execution_count": null,
   "metadata": {},
   "outputs": [],
   "source": [
    "# Metodo 1:añadir un valor fijo\n",
    "clase['Academia'] = 'IT Academy'\n",
    "clase"
   ]
  },
  {
   "cell_type": "code",
   "execution_count": null,
   "metadata": {},
   "outputs": [],
   "source": [
    "clase['Edad2'] = clase['Edad'] + 3\n",
    "clase"
   ]
  },
  {
   "cell_type": "code",
   "execution_count": null,
   "metadata": {},
   "outputs": [],
   "source": [
    "# Metodo 2: Funcion\n",
    "\n",
    "def resta2(x):\n",
    "    return x -2\n",
    "\n",
    "clase['Edad3'] = clase['Edad'].apply(resta2)\n",
    "clase"
   ]
  },
  {
   "cell_type": "code",
   "execution_count": null,
   "metadata": {},
   "outputs": [],
   "source": [
    "titanic = pd.read_csv(r\"C:\\Users\\formacio\\Downloads\\Titanic (1).csv\")\n",
    "titanic"
   ]
  },
  {
   "cell_type": "code",
   "execution_count": null,
   "metadata": {},
   "outputs": [],
   "source": [
    "titanic.head()"
   ]
  },
  {
   "cell_type": "code",
   "execution_count": null,
   "metadata": {},
   "outputs": [],
   "source": [
    "titanic['Name'].head().sort_values(ascending=True)"
   ]
  },
  {
   "cell_type": "code",
   "execution_count": null,
   "metadata": {},
   "outputs": [],
   "source": [
    "titanic[titanic['Name'].str.contains('Henry')]"
   ]
  },
  {
   "cell_type": "code",
   "execution_count": null,
   "metadata": {},
   "outputs": [],
   "source": [
    "fPassId180 = titanic['PassengerId']>180\n",
    "titanic[fPassId180]"
   ]
  }
 ],
 "metadata": {
  "kernelspec": {
   "display_name": "Python 3",
   "language": "python",
   "name": "python3"
  },
  "language_info": {
   "codemirror_mode": {
    "name": "ipython",
    "version": 3
   },
   "file_extension": ".py",
   "mimetype": "text/x-python",
   "name": "python",
   "nbconvert_exporter": "python",
   "pygments_lexer": "ipython3",
   "version": "3.13.1"
  }
 },
 "nbformat": 4,
 "nbformat_minor": 2
}
