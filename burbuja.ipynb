{
 "cells": [
  {
   "cell_type": "code",
   "execution_count": null,
   "metadata": {},
   "outputs": [],
   "source": [
    "lista = [18,25,9,17,44,2]\n",
    "print(lista)\n",
    "\n",
    "def ordenar_burbuja(lista):\n",
    "    n = len(lista)\n",
    "    for i in range(n):\n",
    "        intercambio = False\n",
    "        for j in range(0,n-i-1):\n",
    "            if lista[j]>lista[j+1]:\n",
    "                lista[j],lista[j+1] = lista[j+1],lista[j]\n",
    "                intercambio = True\n",
    "                print(lista)\n",
    "        if intercambio == False:\n",
    "            break\n",
    "    return lista\n",
    "\n",
    "ordenar_burbuja(lista)"
   ]
  },
  {
   "cell_type": "markdown",
   "metadata": {},
   "source": [
    "Practica 37: Ordenar la siguiente lista [95,34,17,63,58,21,8,77,6] en orden descendente mediante el metodo burbuja."
   ]
  },
  {
   "cell_type": "code",
   "execution_count": null,
   "metadata": {},
   "outputs": [],
   "source": [
    "lista = [34,17,63,58,21,89,77,6,95]\n",
    "\n",
    "def ordenar_burbuja_desc(lista):\n",
    "    n = len(lista)\n",
    "    for i in range(n):\n",
    "        intercambio = False\n",
    "        for j in range(0,n-i-1):\n",
    "            if lista[j]<lista[j+1]:\n",
    "                lista[j],lista[j+1] = lista[j+1],lista[j]\n",
    "                intercambio = True\n",
    "                print(lista)\n",
    "        if intercambio == False:\n",
    "            break\n",
    "    return lista\n",
    "\n",
    "ordenar_burbuja_desc(lista)"
   ]
  },
  {
   "cell_type": "markdown",
   "metadata": {},
   "source": [
    "Preactica 37:\n",
    "\n",
    "Crear una funcion que mediante el metodo burbuja, ordenar en modo ascendente la siguiente lista [25,96,33,14,8,9,28,63,105,16]"
   ]
  },
  {
   "cell_type": "code",
   "execution_count": 7,
   "metadata": {},
   "outputs": [
    {
     "data": {
      "text/plain": [
       "[8, 9, 14, 16, 25, 28, 33, 63, 96, 105]"
      ]
     },
     "execution_count": 7,
     "metadata": {},
     "output_type": "execute_result"
    }
   ],
   "source": [
    "lista = [25,96,33,14,8,9,28,63,105,16]\n",
    "\n",
    "n = len(lista)\n",
    "\n",
    "def ordenacion(lista):\n",
    "    for i in range(n):\n",
    "        for j in range(0, n-i-1):\n",
    "            if lista[j]>lista[j+1]:\n",
    "                intercambio = False\n",
    "                lista[j],lista[j+1] = lista[j+1],lista[j]\n",
    "        if intercambio==True:\n",
    "            break\n",
    "    return lista\n",
    "\n",
    "ordenacion(lista)\n"
   ]
  }
 ],
 "metadata": {
  "kernelspec": {
   "display_name": "Python 3",
   "language": "python",
   "name": "python3"
  },
  "language_info": {
   "codemirror_mode": {
    "name": "ipython",
    "version": 3
   },
   "file_extension": ".py",
   "mimetype": "text/x-python",
   "name": "python",
   "nbconvert_exporter": "python",
   "pygments_lexer": "ipython3",
   "version": "3.13.1"
  }
 },
 "nbformat": 4,
 "nbformat_minor": 2
}
