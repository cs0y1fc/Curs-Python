{
 "cells": [
  {
   "cell_type": "code",
   "execution_count": 17,
   "metadata": {},
   "outputs": [],
   "source": [
    "# Reglas nemotecnicas, como se \n",
    "setmana = ['dilluns', 'dimarts', 'dimecres', 'dijous', 'divendres', 'dissabte', 'diumenge']\n"
   ]
  },
  {
   "cell_type": "code",
   "execution_count": 18,
   "metadata": {},
   "outputs": [
    {
     "name": "stdout",
     "output_type": "stream",
     "text": [
      "['dilluns', 'dimarts', 'dimecres', 'dijous', 'divendres', 'dissabte', 'diumenge']\n"
     ]
    }
   ],
   "source": [
    "print(setmana)"
   ]
  },
  {
   "cell_type": "code",
   "execution_count": 21,
   "metadata": {},
   "outputs": [
    {
     "name": "stdout",
     "output_type": "stream",
     "text": [
      "dilluns\n",
      "dimarts\n",
      "dimecres\n",
      "dijous\n",
      "divendres\n",
      "dissabte\n",
      "diumenge\n",
      "Se acabo\n"
     ]
    }
   ],
   "source": [
    "for dia in setmana:\n",
    "    print(dia),\n",
    "print('Se acabo')"
   ]
  },
  {
   "cell_type": "code",
   "execution_count": 34,
   "metadata": {},
   "outputs": [
    {
     "name": "stdout",
     "output_type": "stream",
     "text": [
      "El 1 mes del año es Gener\n",
      "El 2 mes del año es Febrer\n",
      "El 3 mes del año es Març\n",
      "El 4 mes del año es Abril\n",
      "El 5 mes del año es Maig\n",
      "El 6 mes del año es Juny\n",
      "El 7 mes del año es Juliol\n",
      "El 8 mes del año es Agost\n",
      "El 9 mes del año es Setembre\n",
      "El 10 mes del año es Octubre\n",
      "El 11 mes del año es Novembre\n",
      "El 12 mes del año es Desembre\n",
      "Se acabo\n"
     ]
    }
   ],
   "source": [
    "mesos = ['Gener', 'Febrer', 'Març', 'Abril', 'Maig', 'Juny', 'Juliol', 'Agost', 'Setembre', 'Octubre', 'Novembre', 'Desembre']\n",
    "iter = 1\n",
    "for mes in mesos:\n",
    "    print(\"El\",iter,\"mes del año es\",mes)\n",
    "    iter += 1\n",
    "print(\"Se acabo\")"
   ]
  },
  {
   "cell_type": "code",
   "execution_count": 37,
   "metadata": {},
   "outputs": [
    {
     "name": "stdout",
     "output_type": "stream",
     "text": [
      "El 1 mes del año es Gener\n",
      "El 2 mes del año es Febrer\n",
      "El 3 mes del año es Març\n",
      "El 4 mes del año es Abril\n",
      "El 5 mes del año es Maig\n",
      "El 7 mes del año es Juliol\n",
      "El 8 mes del año es Agost\n",
      "El 9 mes del año es Setembre\n",
      "El 10 mes del año es Octubre\n",
      "El 11 mes del año es Novembre\n",
      "El 12 mes del año es Desembre\n",
      "Se acabo\n"
     ]
    }
   ],
   "source": [
    "iter = 1\n",
    "for mes in mesos:\n",
    "    if iter != 6:print(\"El\",iter,\"mes del año es\",mes)\n",
    "    iter += 1\n",
    "print(\"Se acabo\")"
   ]
  },
  {
   "cell_type": "code",
   "execution_count": null,
   "metadata": {},
   "outputs": [],
   "source": []
  },
  {
   "cell_type": "code",
   "execution_count": 35,
   "metadata": {},
   "outputs": [
    {
     "name": "stdout",
     "output_type": "stream",
     "text": [
      "la letra es D\n",
      "la letra es o\n",
      "la letra es m\n",
      "la letra es i\n",
      "la letra es n\n",
      "la letra es g\n",
      "la letra es o\n"
     ]
    }
   ],
   "source": [
    "palabra = 'Domingo'\n",
    "for letra in palabra:\n",
    "    print(\"la letra es\", letra)\n",
    "    "
   ]
  },
  {
   "cell_type": "code",
   "execution_count": null,
   "metadata": {},
   "outputs": [
    {
     "name": "stdout",
     "output_type": "stream",
     "text": [
      "No es Barcelona\n"
     ]
    }
   ],
   "source": [
    "Ciudad = 'Girona'\n",
    "if Ciudad == 'Teruel':\n",
    "    print(\"Sí es Teruel\")\n",
    "else: \n",
    "    print(\"No es Teruel\")\n"
   ]
  },
  {
   "cell_type": "code",
   "execution_count": 38,
   "metadata": {},
   "outputs": [
    {
     "name": "stdout",
     "output_type": "stream",
     "text": [
      "48\n",
      "67\n",
      "73\n",
      "88\n",
      "Se acabo\n"
     ]
    }
   ],
   "source": [
    "numeros = [15,33,48,67,25,19,73,88,14]\n",
    "for num in numeros:\n",
    "    if num>40:print(num)\n",
    "    iter += 1\n",
    "print(\"Se acabo\")"
   ]
  },
  {
   "cell_type": "code",
   "execution_count": 40,
   "metadata": {},
   "outputs": [
    {
     "name": "stdout",
     "output_type": "stream",
     "text": [
      "Gener\n",
      "Abril\n",
      "Agost\n",
      "Se acabo\n"
     ]
    }
   ],
   "source": [
    "mesos = ['Gener', 'Febrer', 'Març', 'Abril', 'Maig', 'Juny', 'Juliol', 'Agost', 'Setembre', 'Octubre', 'Novembre', 'Desembre']\n",
    "iter = 1\n",
    "for mes in mesos:\n",
    "    if len(mes)==5:print(mes)\n",
    "    iter += 1\n",
    "print(\"Se acabo\")"
   ]
  },
  {
   "cell_type": "code",
   "execution_count": null,
   "metadata": {},
   "outputs": [
    {
     "name": "stdout",
     "output_type": "stream",
     "text": [
      "Valor de diamante es en el rango 50-75\n"
     ]
    }
   ],
   "source": [
    "diamante = 66\n",
    "\n",
    "if (diamante<0 | diamante>100):\n",
    "    print(\"Fuera de rango\")\n",
    "elif diamante < 25:\n",
    "    print(\"Valor de diamante es en el rango 0-25\")\n",
    "elif diamante < 50:\n",
    "    print(\"Valor de diamante es en el rango 25-50\")\n",
    "elif diamante < 75:\n",
    "    print(\"Valor de diamante es en el rango 50-75\")\n",
    "elif diamante < 75:\n",
    "    print(\"Valor de diamante es en el rango 50-75\")\n",
    "else:\n",
    "    print(\"Fura de rango\")\n"
   ]
  },
  {
   "cell_type": "markdown",
   "metadata": {},
   "source": [
    "Funciones de Conversion a:\n",
    "\n",
    "int: Conversion a Entero\n",
    "float: Conversion a Decimal\n",
    "str: Conversion a Texto\n",
    "bool: true o false\n",
    "\n"
   ]
  },
  {
   "cell_type": "markdown",
   "metadata": {},
   "source": [
    "match ... case"
   ]
  },
  {
   "cell_type": "code",
   "execution_count": 3,
   "metadata": {},
   "outputs": [
    {
     "name": "stdout",
     "output_type": "stream",
     "text": [
      "ni 10, ni 20, ni 30\n"
     ]
    }
   ],
   "source": [
    "diamante = 29\n",
    "match diamante:\n",
    "    case 10:\n",
    "        print(\"Diamante vale 20\")\n",
    "    case 20:\n",
    "        print(\"Diamante vale 20\")\n",
    "    case 30:\n",
    "        print(\"Diamante vale 20\")\n",
    "    case default:\n",
    "        print(\"ni 10, ni 20, ni 30\")"
   ]
  },
  {
   "cell_type": "code",
   "execution_count": null,
   "metadata": {},
   "outputs": [],
   "source": [
    "ciudad = \"Barcelona\"\n",
    "match ciudad:\n",
    "    case \"Barcelona\":\n",
    "        print(\"Correcto\")"
   ]
  },
  {
   "cell_type": "markdown",
   "metadata": {},
   "source": [
    "Para salir de un bucle, se utiliza BREAK\n",
    "\n",
    "Para saltar una iteracion, se utiliza CONTINUE"
   ]
  },
  {
   "cell_type": "code",
   "execution_count": 4,
   "metadata": {},
   "outputs": [
    {
     "name": "stdout",
     "output_type": "stream",
     "text": [
      "mi letra D\n",
      "mi letra o\n",
      "mi letra m\n",
      "mi letra i\n"
     ]
    }
   ],
   "source": [
    "palabra = \"Domingo\"\n",
    "for letra in palabra:\n",
    "    if letra==\"n\":\n",
    "        break\n",
    "    else:\n",
    "        print(\"mi letra\", letra)"
   ]
  },
  {
   "cell_type": "code",
   "execution_count": 5,
   "metadata": {},
   "outputs": [
    {
     "name": "stdout",
     "output_type": "stream",
     "text": [
      "mi letra D\n",
      "mi letra o\n",
      "mi letra m\n",
      "mi letra i\n",
      "mi letra g\n",
      "mi letra o\n"
     ]
    }
   ],
   "source": [
    "palabra = \"Domingo\"\n",
    "for letra in palabra:\n",
    "    if letra==\"n\":\n",
    "        continue\n",
    "    else:\n",
    "        print(\"mi letra\", letra)"
   ]
  },
  {
   "cell_type": "code",
   "execution_count": 31,
   "metadata": {},
   "outputs": [
    {
     "name": "stdout",
     "output_type": "stream",
     "text": [
      "1.8\n"
     ]
    }
   ],
   "source": [
    "r = float(2)\n",
    "r = r - 0.2\n",
    "print(r)"
   ]
  },
  {
   "cell_type": "code",
   "execution_count": 12,
   "metadata": {},
   "outputs": [
    {
     "name": "stdout",
     "output_type": "stream",
     "text": [
      "DOMINGO\n",
      "domingo\n"
     ]
    },
    {
     "data": {
      "text/plain": [
       "'Xomingo'"
      ]
     },
     "execution_count": 12,
     "metadata": {},
     "output_type": "execute_result"
    }
   ],
   "source": [
    "palabra = \"Domingo\"\n",
    "\n",
    "print(palabra.upper())\n",
    "\n",
    "print(palabra.lower())\n",
    "\n",
    "palabra = palabra.replace('D', 'X')\n",
    "\n",
    "palabra"
   ]
  },
  {
   "cell_type": "code",
   "execution_count": 13,
   "metadata": {},
   "outputs": [
    {
     "name": "stdout",
     "output_type": "stream",
     "text": [
      "['Esto', 'es', 'una', 'frase']\n"
     ]
    },
    {
     "data": {
      "text/plain": [
       "'Esto'"
      ]
     },
     "execution_count": 13,
     "metadata": {},
     "output_type": "execute_result"
    }
   ],
   "source": [
    "palabra = \"Esto es una frase\"\n",
    "\n",
    "lista = palabra.split()\n",
    "\n",
    "print(lista)\n",
    "lista[0]"
   ]
  },
  {
   "cell_type": "markdown",
   "metadata": {},
   "source": [
    "Practica 7: Mediante la variable gamma, devolver un texto que ponga el valor de gamma es correcto, mediante una estructura match...case con estas 4 opciones: Barcelona, Girona, Tarragona, Lleida, sino poner otra localidad.\n",
    "\n",
    "Practica 8: Imprimir por separado las letras de la variable palabra que vale \n",
    "\"supercalifragilisticoespialidoso\" en mayusculas menos las letras a\n",
    "\n",
    "Practica 9: Mediante unalista de numeros [18, 25, 33, 17, 48, 35, 73, 19] \n",
    "Imprimir los numeros mediante un bucle, mientras la suma delos valores impresos sea menor de 180\n",
    "\n",
    "Practica 10: Imprimir la lista ciudades ['BARCELONA', 'MURCIA', 'TOLEDO', 'SALAMANCA'] en minusculas siempre que el numero de caracteres de la ciudad sea diferente a 6"
   ]
  },
  {
   "cell_type": "code",
   "execution_count": null,
   "metadata": {},
   "outputs": [],
   "source": []
  },
  {
   "cell_type": "code",
   "execution_count": 23,
   "metadata": {},
   "outputs": [
    {
     "name": "stdout",
     "output_type": "stream",
     "text": [
      "INCORRECTO\n"
     ]
    }
   ],
   "source": [
    "gamma = (input(\"Escribe una ciudad:\"))\n",
    "\n",
    "match gamma:\n",
    "    case 'Barcelona':\n",
    "        print(\"Correcto\")\n",
    "    \n",
    "    case 'Girona':\n",
    "        print(\"Correcto\")\n",
    "    \n",
    "    case 'Tarragona':\n",
    "        print(\"Correcto\")\n",
    "    \n",
    "    case 'Lleida':\n",
    "        print(\"Correcto\")\n",
    "    case default:\n",
    "        print(\"INCORRECTO\")"
   ]
  },
  {
   "cell_type": "code",
   "execution_count": 18,
   "metadata": {},
   "outputs": [
    {
     "name": "stdout",
     "output_type": "stream",
     "text": [
      "mi letra S\n",
      "mi letra U\n",
      "mi letra P\n",
      "mi letra E\n",
      "mi letra R\n",
      "mi letra C\n",
      "mi letra L\n",
      "mi letra I\n",
      "mi letra F\n",
      "mi letra R\n",
      "mi letra G\n",
      "mi letra I\n",
      "mi letra L\n",
      "mi letra I\n",
      "mi letra S\n",
      "mi letra T\n",
      "mi letra I\n",
      "mi letra C\n",
      "mi letra O\n",
      "mi letra E\n",
      "mi letra S\n",
      "mi letra P\n",
      "mi letra I\n",
      "mi letra L\n",
      "mi letra I\n",
      "mi letra D\n",
      "mi letra O\n",
      "mi letra S\n",
      "mi letra O\n"
     ]
    }
   ],
   "source": [
    "palabra = \"supercalifragilisticoespialidoso\"\n",
    "for letra in palabra:\n",
    "    if letra==\"a\":\n",
    "        continue\n",
    "    else:\n",
    "        print(\"mi letra\", letra.upper())"
   ]
  },
  {
   "cell_type": "code",
   "execution_count": 19,
   "metadata": {},
   "outputs": [
    {
     "name": "stdout",
     "output_type": "stream",
     "text": [
      "El valor es 18\n",
      "El valor es 25\n",
      "El valor es 33\n",
      "El valor es 17\n",
      "El valor es 48\n",
      "El valor es 35\n",
      "El valor es 73\n",
      "Suma total: 268\n"
     ]
    }
   ],
   "source": [
    "suma = 0\n",
    "for i in [18, 25, 33, 17, 48, 35, 73, 19]:\n",
    "    #Esto es el codigo del bucle\n",
    "    if suma<180:print(\"El valor es\",i)\n",
    "    suma = suma + i\n",
    "print(\"Suma total:\", suma)"
   ]
  },
  {
   "cell_type": "code",
   "execution_count": 21,
   "metadata": {},
   "outputs": [
    {
     "name": "stdout",
     "output_type": "stream",
     "text": [
      "barcelona\n",
      "salamanca\n",
      "zaragoza\n"
     ]
    }
   ],
   "source": [
    "ciudades = ['BARCELONA', 'MURCIA', 'TOLEDO', 'SALAMANCA', 'ZARAGOZA', 'MADRID']\n",
    "for ciudadA in ciudades:\n",
    "    #Esto es el codigo del bucle\n",
    "    if len(ciudadA)!= 6:print(ciudadA.lower())\n",
    "\n",
    "\n"
   ]
  },
  {
   "cell_type": "markdown",
   "metadata": {},
   "source": [
    "Practica 11:\n",
    "\n",
    "Partiendo de la variable frase, que contendra el valor: \"El viernes os quiero ver a todos, se donde vivis\". Imprimir las palabras por individual con el orden correcto."
   ]
  },
  {
   "cell_type": "code",
   "execution_count": 30,
   "metadata": {},
   "outputs": [
    {
     "name": "stdout",
     "output_type": "stream",
     "text": [
      "['El', 'viernes', 'os', 'quiero', 'ver', 'a', 'todos,', 'se', 'donde', 'vivis']\n",
      "Palabra num. 1 = El\n",
      "Palabra num. 2 = viernes\n",
      "Palabra num. 3 = os\n",
      "Palabra num. 4 = quiero\n",
      "Palabra num. 5 = ver\n",
      "Palabra num. 6 = a\n",
      "Palabra num. 7 = todos,\n",
      "Palabra num. 8 = se\n",
      "Palabra num. 9 = donde\n",
      "Palabra num. 10 = vivis\n"
     ]
    }
   ],
   "source": [
    "frase = \"El viernes os quiero ver a todos, se donde vivis\"\n",
    "frase = frase.split()\n",
    "\n",
    "print(frase)\n",
    "\n",
    "i = 1\n",
    "for palabra in frase:\n",
    "    print(\"Palabra num.\", i, \"=\", palabra)\n",
    "    i = i + 1"
   ]
  },
  {
   "cell_type": "markdown",
   "metadata": {},
   "source": [
    "Practica 12: Crear una funcion que sume 12 a un numero y lo divida entre 3, me lo devuleva con un texto.\n",
    "\n",
    "Practica 13: Crear una funcion que pasandole como parametro un numero entre1-12, nos devuelva el noombre del mes corresponiente en letras ... WARNING, si no es entre 1-12\n",
    "\n",
    "Practica 14: Crear una funcion que nos devuelva el area de un triangulo\n",
    "\n"
   ]
  },
  {
   "cell_type": "code",
   "execution_count": null,
   "metadata": {},
   "outputs": [
    {
     "name": "stdout",
     "output_type": "stream",
     "text": [
      "El resultado entero es: 11\n"
     ]
    }
   ],
   "source": [
    "#practica 12\n",
    "\n",
    "#+1 parametro en la funcion\n",
    "def dividir(a):\n",
    "    b = a + 12\n",
    "    print(\"El resultado entero es:\", round((b/3),2))\n",
    "\n",
    "a = float(input(\"Ponga el valor de a\"))\n",
    "\n",
    "dividir(int(a))\n",
    "\n",
    "\n",
    "\n"
   ]
  },
  {
   "cell_type": "code",
   "execution_count": null,
   "metadata": {},
   "outputs": [
    {
     "name": "stdout",
     "output_type": "stream",
     "text": [
      "Desembre\n"
     ]
    }
   ],
   "source": [
    "#practica 13\n",
    "def meses(a):\n",
    "    match a:\n",
    "        case 1:\n",
    "            print(\"Enero\")\n",
    "        case 2:\n",
    "            print(\"Febrer\")\n",
    "        case 3:\n",
    "            print(\"Març\")\n",
    "        case 4:\n",
    "            print(\"Abril\")\n",
    "        case 5:\n",
    "            print(\"Maig\")\n",
    "        case 6:\n",
    "            print(\"Juny\")\n",
    "        case 7:\n",
    "            print(\"Juliol\")\n",
    "        case 8:\n",
    "            print(\"Agost\")\n",
    "        case 9:\n",
    "            print(\"Setembre\")\n",
    "        case 10:\n",
    "            print(\"Octubre\")\n",
    "        case 11:\n",
    "            print(\"Novembre\")\n",
    "        case 12:\n",
    "            print(\"Desembre\")\n",
    "        case default:\n",
    "            print(\"Numero INCORRECTE\")\n",
    "\n",
    "b = input (\"Introudueix un numero de mes\")\n",
    "\n",
    "meses(int(b))"
   ]
  },
  {
   "cell_type": "code",
   "execution_count": 38,
   "metadata": {},
   "outputs": [
    {
     "name": "stdout",
     "output_type": "stream",
     "text": [
      "El area del triangulo es: 3.0\n"
     ]
    }
   ],
   "source": [
    "#practica 14\n",
    "\n",
    "#+1 parametro en la funcion\n",
    "def triangulo(a, b):\n",
    "    print(\"El area del triangulo es:\", (a*b)/2)\n",
    "    \n",
    "a = float(input(\"Ponga el valor de altura\"))\n",
    "b = float(input(\"Ponga el valor de base\"))\n",
    "\n",
    "triangulo(a, b)"
   ]
  },
  {
   "cell_type": "markdown",
   "metadata": {},
   "source": [
    "Practica 15: Crear una funcion que nos reste 10 a un numero y lo multiplique por 100. El resultado debe incluir 3 decimales. Llamar a la funcion y sumar otro numero\n",
    "\n",
    "Practica 16: Funcion que compare a y b, y que nos devuelva con un texto los 3 posibles resultados: a es mayor b, b es mayor a, a y b iguales."
   ]
  },
  {
   "cell_type": "code",
   "execution_count": 46,
   "metadata": {},
   "outputs": [
    {
     "data": {
      "text/plain": [
       "-860.0"
      ]
     },
     "execution_count": 46,
     "metadata": {},
     "output_type": "execute_result"
    }
   ],
   "source": [
    "#practica 15\n",
    "\n",
    "def operacion(a):\n",
    "    b = round((a - 10) * 100, 3)\n",
    "    return (b)    \n",
    "\n",
    "x = float(input(\"Introducir un numero\"))\n",
    "operacion(x) + 40"
   ]
  },
  {
   "cell_type": "code",
   "execution_count": 43,
   "metadata": {},
   "outputs": [
    {
     "name": "stdout",
     "output_type": "stream",
     "text": [
      "5.0 es mayor a 2.0\n"
     ]
    }
   ],
   "source": [
    "#practica 16\n",
    "\n",
    "def comparacion(a, b):\n",
    "    if a>b:print(a, \"es mayor a\", b)\n",
    "    elif b>a:print(b, \"es mayor\", a)\n",
    "    else:print(a, \"y\", b, \"son iguales\")    \n",
    "\n",
    "a = float(input(\"Introducir el numero a\"))\n",
    "b = float(input(\"Introducir el numero b\"))\n",
    "\n",
    "comparacion(a, b)"
   ]
  },
  {
   "cell_type": "markdown",
   "metadata": {},
   "source": [
    "#Practica 17: Mediante un bucle while, imprimir el valor de una variable i, inicialmente con valor 10, mientras sea menor que 50. La i se incrementa de 2 en 2"
   ]
  },
  {
   "cell_type": "code",
   "execution_count": 47,
   "metadata": {},
   "outputs": [
    {
     "name": "stdout",
     "output_type": "stream",
     "text": [
      "10\n",
      "12\n",
      "14\n",
      "16\n",
      "18\n",
      "20\n",
      "22\n",
      "24\n",
      "26\n",
      "28\n",
      "30\n",
      "32\n",
      "34\n",
      "36\n",
      "38\n",
      "40\n",
      "42\n",
      "44\n",
      "46\n",
      "48\n"
     ]
    }
   ],
   "source": [
    "i = 10\n",
    "while i<50:\n",
    "    print(i)\n",
    "    i+=2"
   ]
  }
 ],
 "metadata": {
  "kernelspec": {
   "display_name": "Python 3",
   "language": "python",
   "name": "python3"
  },
  "language_info": {
   "codemirror_mode": {
    "name": "ipython",
    "version": 3
   },
   "file_extension": ".py",
   "mimetype": "text/x-python",
   "name": "python",
   "nbconvert_exporter": "python",
   "pygments_lexer": "ipython3",
   "version": "3.13.1"
  }
 },
 "nbformat": 4,
 "nbformat_minor": 2
}
