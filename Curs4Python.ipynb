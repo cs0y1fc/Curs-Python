{
 "cells": [
  {
   "cell_type": "code",
   "execution_count": 1,
   "metadata": {},
   "outputs": [
    {
     "data": {
      "text/html": [
       "<div>\n",
       "<style scoped>\n",
       "    .dataframe tbody tr th:only-of-type {\n",
       "        vertical-align: middle;\n",
       "    }\n",
       "\n",
       "    .dataframe tbody tr th {\n",
       "        vertical-align: top;\n",
       "    }\n",
       "\n",
       "    .dataframe thead th {\n",
       "        text-align: right;\n",
       "    }\n",
       "</style>\n",
       "<table border=\"1\" class=\"dataframe\">\n",
       "  <thead>\n",
       "    <tr style=\"text-align: right;\">\n",
       "      <th></th>\n",
       "      <th>Ship Country</th>\n",
       "      <th>Amount</th>\n",
       "    </tr>\n",
       "  </thead>\n",
       "  <tbody>\n",
       "    <tr>\n",
       "      <th>0</th>\n",
       "      <td>Austria</td>\n",
       "      <td>4483.4</td>\n",
       "    </tr>\n",
       "    <tr>\n",
       "      <th>1</th>\n",
       "      <td>Belgium</td>\n",
       "      <td>6438.8</td>\n",
       "    </tr>\n",
       "    <tr>\n",
       "      <th>2</th>\n",
       "      <td>Brazil</td>\n",
       "      <td>19398.5</td>\n",
       "    </tr>\n",
       "    <tr>\n",
       "      <th>3</th>\n",
       "      <td>Finland</td>\n",
       "      <td>4492.8</td>\n",
       "    </tr>\n",
       "    <tr>\n",
       "      <th>4</th>\n",
       "      <td>France</td>\n",
       "      <td>5624.8</td>\n",
       "    </tr>\n",
       "    <tr>\n",
       "      <th>5</th>\n",
       "      <td>Germany</td>\n",
       "      <td>41568.0</td>\n",
       "    </tr>\n",
       "    <tr>\n",
       "      <th>6</th>\n",
       "      <td>Ireland</td>\n",
       "      <td>4889.0</td>\n",
       "    </tr>\n",
       "    <tr>\n",
       "      <th>7</th>\n",
       "      <td>Italy</td>\n",
       "      <td>1796.6</td>\n",
       "    </tr>\n",
       "    <tr>\n",
       "      <th>8</th>\n",
       "      <td>Mexico</td>\n",
       "      <td>4950.1</td>\n",
       "    </tr>\n",
       "    <tr>\n",
       "      <th>9</th>\n",
       "      <td>Spain</td>\n",
       "      <td>2466.2</td>\n",
       "    </tr>\n",
       "    <tr>\n",
       "      <th>10</th>\n",
       "      <td>Sweden</td>\n",
       "      <td>7030.5</td>\n",
       "    </tr>\n",
       "    <tr>\n",
       "      <th>11</th>\n",
       "      <td>Switzerland</td>\n",
       "      <td>3115.7</td>\n",
       "    </tr>\n",
       "    <tr>\n",
       "      <th>12</th>\n",
       "      <td>UK</td>\n",
       "      <td>1955.0</td>\n",
       "    </tr>\n",
       "    <tr>\n",
       "      <th>13</th>\n",
       "      <td>USA</td>\n",
       "      <td>21842.6</td>\n",
       "    </tr>\n",
       "    <tr>\n",
       "      <th>14</th>\n",
       "      <td>Venezuela</td>\n",
       "      <td>7516.1</td>\n",
       "    </tr>\n",
       "  </tbody>\n",
       "</table>\n",
       "</div>"
      ],
      "text/plain": [
       "   Ship Country   Amount\n",
       "0       Austria   4483.4\n",
       "1       Belgium   6438.8\n",
       "2        Brazil  19398.5\n",
       "3       Finland   4492.8\n",
       "4        France   5624.8\n",
       "5       Germany  41568.0\n",
       "6       Ireland   4889.0\n",
       "7         Italy   1796.6\n",
       "8        Mexico   4950.1\n",
       "9         Spain   2466.2\n",
       "10       Sweden   7030.5\n",
       "11  Switzerland   3115.7\n",
       "12           UK   1955.0\n",
       "13          USA  21842.6\n",
       "14    Venezuela   7516.1"
      ]
     },
     "execution_count": 1,
     "metadata": {},
     "output_type": "execute_result"
    }
   ],
   "source": [
    "# Vamos a cargar en un dataframe el fichero sumaporpais.csv\n",
    "\n",
    "import pandas as pd\n",
    "sumaporpais = pd.read_csv(r\"C:\\Users\\formacio\\Downloads\\sumaporpais.csv\")\n",
    "sumaporpais"
   ]
  },
  {
   "cell_type": "code",
   "execution_count": 2,
   "metadata": {},
   "outputs": [
    {
     "name": "stdout",
     "output_type": "stream",
     "text": [
      "Conseguido\n"
     ]
    }
   ],
   "source": [
    "# Vamos a gurdar el dataframe en formato Excel, con la libreria: openpyxl\n",
    "\n",
    "ruta = r\"C:\\Users\\formacio\\Downloads\\sumaporpais.xlsx\" # ruta donde queremos guardar el archivo Excel\n",
    "\n",
    "sumaporpais.to_excel(ruta,sheet_name=\"Paises\",header=True,index=False)\n",
    "print(\"Conseguido\")"
   ]
  },
  {
   "cell_type": "code",
   "execution_count": 3,
   "metadata": {},
   "outputs": [
    {
     "name": "stdout",
     "output_type": "stream",
     "text": [
      "Conseguido\n"
     ]
    }
   ],
   "source": [
    "# Queremos trabajar en el archivo Excel. Queremos hacer modificaciones\n",
    "\n",
    "# Primer paso:\n",
    "import openpyxl as op\n",
    "\n",
    "book = op.load_workbook(r\"C:\\Users\\formacio\\Downloads\\sumaporpais.xlsx\")\n",
    "\n",
    "new_sheet = book.create_sheet(title=\"Prueba\")\n",
    "\n",
    "new_sheet['A1'] = \"Si me sale, estoy aprobado\"\n",
    "\n",
    "# Debemos guardar\n",
    "\n",
    "book.save(r\"C:\\Users\\formacio\\Downloads\\sumaporpais.xlsx\")\n",
    "\n",
    "print(\"Conseguido\")\n",
    "\n"
   ]
  },
  {
   "cell_type": "code",
   "execution_count": 4,
   "metadata": {},
   "outputs": [
    {
     "name": "stdout",
     "output_type": "stream",
     "text": [
      "Pais Austria - Amount 4483.4\n",
      "Pais Belgium - Amount 6438.8\n",
      "Pais Brazil - Amount 19398.5\n",
      "Pais Finland - Amount 4492.799999999999\n",
      "Pais France - Amount 5624.8\n",
      "Pais Germany - Amount 41568\n",
      "Pais Ireland - Amount 4889\n",
      "Pais Italy - Amount 1796.6\n",
      "Pais Mexico - Amount 4950.1\n",
      "Pais Spain - Amount 2466.2\n",
      "Pais Sweden - Amount 7030.5\n",
      "Pais Switzerland - Amount 3115.7\n",
      "Pais UK - Amount 1955\n",
      "Pais USA - Amount 21842.6\n",
      "Pais Venezuela - Amount 7516.1\n"
     ]
    }
   ],
   "source": [
    "# Conectarme al libro de Excel y a la hoja Paises\n",
    "\n",
    "book = op.load_workbook(r\"C:\\Users\\formacio\\Downloads\\sumaporpais.xlsx\")\n",
    "\n",
    "paises = book['Paises'] # paises ahora es un Excel\n",
    "\n",
    "# Voy a ver el nombre del campo, usaremos la funcion cell (poner fila y columna del Excel)\n",
    "\n",
    "paises.cell(1,1).value\n",
    "\n",
    "paises.cell(2,2).value\n",
    "\n",
    "# Para ver el archivo hace falta un while y un print\n",
    "# Vamos a recorrer todas las filas de la hoja Paises, cuya columna 2 contenga datos de Amount (fila 1 --> titulo \"Amount\")\n",
    "\n",
    "fila = 2\n",
    "\n",
    "while paises.cell(fila,2).value!=None:\n",
    "    print(\"Pais\", paises.cell(fila,1).value, \"- Amount\", paises.cell(fila,2).value)\n",
    "    fila+=1"
   ]
  },
  {
   "cell_type": "markdown",
   "metadata": {},
   "source": [
    "Practica 36:\n",
    "Conectarse al fichero de Excel Ventas_Groucery Nov-Dic 2014.xlsx\n",
    "Concatenar los meses de Noviembre + Diciembre en uno solo\n",
    "Calcular la columna Importe = Precio Unidad * Cantidad\n",
    "Hacer una agrupacion por Categoria con la suma de Importe\n",
    "Guardar en un Dataframe el resultado de la agrupacion (Generar indices)\n",
    "Guardar en un fichero de Excel\n",
    "Abrir este fichero de Excel con openpyxl, conerctarse a la hoja que contiene los datos y poner al final de los mismos, en la columna 1 \"TOTAL\", en la columna 2 (Haber sumado los importes)\n",
    "Guardar el Excel."
   ]
  },
  {
   "cell_type": "code",
   "execution_count": 19,
   "metadata": {},
   "outputs": [
    {
     "name": "stdout",
     "output_type": "stream",
     "text": [
      "Conseguido\n"
     ]
    }
   ],
   "source": [
    "import pandas as pd\n",
    "#Cargar el Noviembre\n",
    "nov2014 = pd.read_excel(r\"C:\\Users\\formacio\\Downloads\\VentasGroucery Nov-Dic.xlsx\", \n",
    "                           sheet_name=\"Ventas Noviembre 2014\")\n",
    "#agosto2014\n",
    "dic2014 = pd.read_excel(r\"C:\\Users\\formacio\\Downloads\\VentasGroucery Nov-Dic.xlsx\",\n",
    "                           sheet_name=\"Ventas Diciembre 2014\")\n",
    "\n",
    "#Juntar los 2 meses(dataframes):\n",
    "dos2meses = pd.concat([nov2014,dic2014],ignore_index=True)\n",
    "dos2meses\n",
    "#Calcular la columna nueva Amount\n",
    "dos2meses['Importe'] = dos2meses['Precio Unidad']*dos2meses['Cantidad']\n",
    "\n",
    "#Agrupacion por categoria\n",
    "resultado = dos2meses.groupby(['Categoría']).Importe.sum()\n",
    "# resultado es un objeto\n",
    "# Lo pasamos a Dataframe\n",
    "resultado = pd.DataFrame(resultado.reset_index())\n",
    "\n",
    "resultado\n",
    "\n",
    "\n",
    "ruta = r\"C:\\Users\\formacio\\Downloads\\mesesporcategoria.xlsx\" # ruta donde queremos guardar el archivo Excel\n",
    "\n",
    "resultado.to_excel(ruta,sheet_name=\"VentasGroucery\",header=True,index=False)\n",
    "print(\"Conseguido\")\n",
    "\n",
    "import openpyxl as op\n",
    "\n",
    "meses = op.load_workbook(r\"C:\\Users\\formacio\\Downloads\\mesesporcategoria.xlsx\")\n",
    "\n",
    "ventas = meses['VentasGroucery']\n",
    "\n",
    "fila = 2\n",
    "total = 0\n",
    "while ventas.cell(fila,2).value!=None:\n",
    "    total += ventas.cell(fila,2).value\n",
    "    fila+=1\n",
    "ventas.cell(fila,1).value = \"TOTAL\"\n",
    "ventas.cell(fila,2).value = total\n",
    "\n",
    "total\n",
    "meses.save(r\"C:\\Users\\formacio\\Downloads\\mesesporcategoria.xlsx\")"
   ]
  }
 ],
 "metadata": {
  "kernelspec": {
   "display_name": "Python 3",
   "language": "python",
   "name": "python3"
  },
  "language_info": {
   "codemirror_mode": {
    "name": "ipython",
    "version": 3
   },
   "file_extension": ".py",
   "mimetype": "text/x-python",
   "name": "python",
   "nbconvert_exporter": "python",
   "pygments_lexer": "ipython3",
   "version": "3.13.1"
  }
 },
 "nbformat": 4,
 "nbformat_minor": 2
}
